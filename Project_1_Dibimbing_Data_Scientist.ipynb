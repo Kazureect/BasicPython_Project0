{
  "cells": [
    {
      "cell_type": "markdown",
      "metadata": {
        "id": "view-in-github",
        "colab_type": "text"
      },
      "source": [
        "<a href=\"https://colab.research.google.com/github/Kazureect/BasicPython_Project0/blob/main/Project_1_Dibimbing_Data_Scientist.ipynb\" target=\"_parent\"><img src=\"https://colab.research.google.com/assets/colab-badge.svg\" alt=\"Open In Colab\"/></a>"
      ]
    },
    {
      "cell_type": "markdown",
      "id": "39bf7b14",
      "metadata": {
        "id": "39bf7b14"
      },
      "source": [
        "## Buatlah sebuah program yang:\n",
        "\n",
        "   1. Meminta input dari pengguna:\n",
        "\n",
        "       - Nama mahasiswa\n",
        "\n",
        "       - NIM mahasiswa\n",
        "\n",
        "       - Nilai ujian (dalam angka, 0–100)\n",
        "\n",
        "   2. Cek dan tampilkan tipe data dari setiap input.\n",
        "\n",
        "   3. Gunakan if-elif-else untuk menentukan kategori nilai, dengan kriteria sebagai berikut:\n",
        "   \n",
        "```\n",
        "Nilai | Kategori\n",
        "85 - 100 | A (Sangat Baik)\n",
        "75 - 84 | B (Baik)\n",
        "60 - 74 | C (Cukup)\n",
        "40 - 59 | D (Kurang)\n",
        "< 40 | E (Sangat Kurang)\n",
        "```\n",
        "\n",
        "```\n",
        "==== Ekspektasi Output Jawaban : =====\n",
        "Masukkan nama mahasiswa: Sarah\n",
        "Masukkan NIM: 12345678\n",
        "Masukkan nilai ujian (0-100): 81\n",
        "\n",
        "Nama: Sarah (type: <class 'str'>)\n",
        "NIM: 12345678 (type: <class 'str'>)\n",
        "Nilai: 81 (type: <class 'int'>)\n",
        "\n",
        "Hasil Evaluasi:\n",
        "Mahasiswa: Sarah (NIM: 12345678)\n",
        "Nilai Ujian: 81\n",
        "Kategori Nilai: B (Baik)\n",
        "```"
      ]
    },
    {
      "cell_type": "markdown",
      "source": [
        "##Hasil:"
      ],
      "metadata": {
        "id": "PEnp80YWcC-l"
      },
      "id": "PEnp80YWcC-l"
    },
    {
      "cell_type": "code",
      "execution_count": null,
      "id": "e2ab644c",
      "metadata": {
        "id": "e2ab644c",
        "colab": {
          "base_uri": "https://localhost:8080/"
        },
        "outputId": "c89068be-bd93-4b55-db8c-4f627a41165d"
      },
      "outputs": [
        {
          "output_type": "stream",
          "name": "stdout",
          "text": [
            "Masukkan nama mahasiswa: Kocas\n",
            "Masukkan NIM: 12345\n",
            "Masukkan nilai ujian (0-100): 80\n",
            "\n",
            "Nama: Kocas (type: <class 'str'>)\n",
            "NIM: 12345 (type: <class 'str'>)\n",
            "Nilai: 80 (type: <class 'int'>)\n",
            "\n",
            "Hasil Evaluasi:\n",
            "Mahasiswa: Kocas (NIM: 12345)\n",
            "Nilai Ujian: 80\n",
            "Kategori Nilai: A (Sangat Baik)\n"
          ]
        }
      ],
      "source": [
        "#Masukkan Nama, NIM, dan Nilai\n",
        "nama = input(\"Masukkan nama mahasiswa: \")\n",
        "nim = input(\"Masukkan NIM: \")\n",
        "nilai = int(input(\"Masukkan nilai ujian (0-100): \"))\n",
        "\n",
        "#Print dan cek tipe data Nama, NIM, dan Nilai\n",
        "print(f\"\\nNama :  {nama} (type: {type(nama)})\")\n",
        "print(f\"NIM : {nim} (type: {type(nim)})\")\n",
        "print(f\"Nilai : {nilai} (type: {type(nilai)})\")\n",
        "\n",
        "#Keterangan berdasarkan nilai\n",
        "if nilai >= 85 & nilai <= 100:\n",
        "    kategori_nilai = (\"A (Sangat Baik)\")\n",
        "elif nilai >= 75 & nilai <= 84:\n",
        "    kategori_nilai = (\"B (Baik)\")\n",
        "elif nilai >= 60 & nilai <= 74:\n",
        "    kategori_nilai = (\"C (Cukup)\")\n",
        "elif nilai >= 40 & nilai <= 59:\n",
        "    kategori_nilai = (\"D (Kurang)\")\n",
        "elif nilai >= 0 & nilai <=39:\n",
        "    kategori_nilai = (\"E (Sangat Kurang)\")\n",
        "else : kategori_nilai = (\"Nilai tidak valid\")\n",
        "\n",
        "#Print hasil akhir\n",
        "print(\"\\nHasil Evaluasi:\")\n",
        "print(f\"Mahasiswa : {nama} (NIM: {nim})\")\n",
        "print(f\"Nilai Ujian : {nilai}\")\n",
        "print(f\"Kategori Nilai : {kategori_nilai}\")"
      ]
    }
  ],
  "metadata": {
    "kernelspec": {
      "display_name": "Python 3 (ipykernel)",
      "language": "python",
      "name": "python3"
    },
    "language_info": {
      "codemirror_mode": {
        "name": "ipython",
        "version": 3
      },
      "file_extension": ".py",
      "mimetype": "text/x-python",
      "name": "python",
      "nbconvert_exporter": "python",
      "pygments_lexer": "ipython3",
      "version": "3.11.4"
    },
    "colab": {
      "provenance": [],
      "include_colab_link": true
    }
  },
  "nbformat": 4,
  "nbformat_minor": 5
}